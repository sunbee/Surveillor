{
 "cells": [
  {
   "cell_type": "markdown",
   "metadata": {},
   "source": [
    "Detect motion with PIL based on the recipe for OpenCV in the reference. This is because installing OpenCV on Raspberry Pi is a bear."
   ]
  },
  {
   "cell_type": "code",
   "execution_count": 26,
   "metadata": {},
   "outputs": [],
   "source": [
    "from picamera import PiCamera, array\n",
    "import numpy as np\n",
    "from io import BytesIO\n",
    "from PIL import Image, ImageFilter, ImageMorph, ImageEnhance\n",
    "import time\n",
    "import os"
   ]
  },
  {
   "cell_type": "markdown",
   "metadata": {},
   "source": [
    "Detect motion by imaging in two takes, one after the other, and comparing pixels. Let's write a function to take a snap."
   ]
  },
  {
   "cell_type": "code",
   "execution_count": 15,
   "metadata": {},
   "outputs": [],
   "source": [
    "def take_motion_snap(width, height):\n",
    "    with PiCamera() as Eye:\n",
    "        time.sleep(1)\n",
    "        Eye.resolution = (width, height)\n",
    "        Eye.rotation = 180\n",
    "        with array.PiRGBArray(camera=Eye) as Stream:\n",
    "            Eye.exposure_mode = 'auto'\n",
    "            Eye.awb_mode = 'auto'\n",
    "            Eye.capture(Stream, format='rgb')\n",
    "            return Stream.array"
   ]
  },
  {
   "cell_type": "code",
   "execution_count": 21,
   "metadata": {},
   "outputs": [
    {
     "name": "stdout",
     "output_type": "stream",
     "text": [
      "Got an image with width, height as 300, 300.\n"
     ]
    }
   ],
   "source": [
    "test = take_motion_snap(300, 300)\n",
    "print(\"Got an image with width, height as {}, {}.\".format(test.shape[0], test.shape[1]))\n",
    "snap = Image.fromarray(test)\n",
    "snap.show()"
   ]
  },
  {
   "cell_type": "markdown",
   "metadata": {},
   "source": [
    "Now we have an RGB image of the specified height and width as a 3-dimensional numpy array. We want to take the difference between two snaps. Write a wrapper function to use ```take_motion_snap(w, h)```, take two snaps and return the computed difference."
   ]
  },
  {
   "cell_type": "code",
   "execution_count": 38,
   "metadata": {},
   "outputs": [],
   "source": [
    "def take_two_motion(intervalsec):\n",
    "    im_one = take_motion_snap(300, 300)\n",
    "    tic = time.time()\n",
    "    toc = tic\n",
    "    while (toc - tic) < intervalsec:\n",
    "        toc = time.time()\n",
    "    im_two = take_motion_snap(300, 300)\n",
    "    im_diff = np.subtract(im_two, im_one)\n",
    "    return im_diff\n"
   ]
  },
  {
   "cell_type": "code",
   "execution_count": 44,
   "metadata": {},
   "outputs": [
    {
     "name": "stderr",
     "output_type": "stream",
     "text": [
      "/usr/lib/python3/dist-packages/picamera/encoders.py:544: PiCameraResolutionRounded: frame size rounded up from 300x300 to 320x304\n",
      "  width, height, fwidth, fheight)))\n"
     ]
    },
    {
     "name": "stdout",
     "output_type": "stream",
     "text": [
      "Got a difference of width, height as 300, 300.\n",
      "The median, mean diff are 3.00, 113.51.\n"
     ]
    }
   ],
   "source": [
    "test_diff = take_two_motion(6)\n",
    "print(\"Got a difference of width, height as {}, {}.\".format(test_diff.shape[0], test_diff.shape[1]))\n",
    "print(\"The median, mean diff are {:.2f}, {:.2f}.\".format(np.median(test_diff), np.mean(test_diff)))\n",
    "snap = Image.fromarray(test_diff)\n",
    "snap.show()"
   ]
  },
  {
   "cell_type": "markdown",
   "metadata": {},
   "source": [
    "Apply thresholding to remove noise from motion and nuisance effects such as lighting change. In thresholding, we will set the value of a pixel in each of the RGB channels to 0 (min) or 255 (max) accordng to a binary threshold value. In OpenCV, this operation would be ```cv2.threshold(frame_delta, 50, 255, cv2.THRESH_BINARY)```. Use numpy operations here."
   ]
  },
  {
   "cell_type": "code",
   "execution_count": 32,
   "metadata": {},
   "outputs": [],
   "source": [
    "def threshold_difference(imdiff, threshold=50):\n",
    "    return np.uint8(np.where(imdiff > threshold, 255, 0))"
   ]
  },
  {
   "cell_type": "code",
   "execution_count": 46,
   "metadata": {},
   "outputs": [
    {
     "name": "stdout",
     "output_type": "stream",
     "text": [
      "Got a thresholded image of width, height as 300, 300.\n"
     ]
    }
   ],
   "source": [
    "diff_clean = threshold_difference(test_diff, np.mean(test_diff))\n",
    "print(\"Got a thresholded image of width, height as {}, {}.\".format(diff_clean.shape[0], diff_clean.shape[1]))\n",
    "diff_clean.dtype\n",
    "snap = Image.fromarray(diff_clean)\n",
    "snap.show()"
   ]
  },
  {
   "cell_type": "code",
   "execution_count": 59,
   "metadata": {},
   "outputs": [
    {
     "name": "stdout",
     "output_type": "stream",
     "text": [
      "After erosion, got median, mean as 0.00, 0.04.\n",
      "After dilation, got median, mean as 0.00, 0.12.\n"
     ]
    }
   ],
   "source": [
    "snap_eroded = snap.filter(ImageFilter.MinFilter(7))\n",
    "snap_eroded.show()\n",
    "print(\"After erosion, got median, mean as {:.2f}, {:.2f}.\".format(np.median(snap_eroded), np.mean(snap_eroded)))\n",
    "snap_dilated = snap_eroded.filter(ImageFilter.MaxFilter(3))\n",
    "snap_dilated.show()\n",
    "print(\"After dilation, got median, mean as {:.2f}, {:.2f}.\".format(np.median(snap_dilated), np.mean(snap_dilated)))\n"
   ]
  },
  {
   "cell_type": "markdown",
   "metadata": {},
   "source": [
    "## References:\n",
    "1. A comprehensive DIY [guide](http://drsol.com/~deid/pi/camera/index.html) to Pi camera including many lesser-known techniques for image and video recording, processing and sharing.\n",
    "2. A github [repo](https://gist.github.com/FutureSharks/ab4c22b719cdd894e3b7ffe1f5b8fd91) for pro motion detection with OpenCV.\n",
    "3. A stackoverflow.com [post](https://stackoverflow.com/questions/31064974/whats-the-fastest-way-to-threshold-a-numpy-array) upon thresholding with operations upon numpy arrays."
   ]
  },
  {
   "cell_type": "markdown",
   "metadata": {},
   "source": []
  }
 ],
 "metadata": {
  "interpreter": {
   "hash": "31f2aee4e71d21fbe5cf8b01ff0e069b9275f58929596ceb00d14d90e3e16cd6"
  },
  "kernelspec": {
   "display_name": "Python 3.7.3 32-bit",
   "name": "python3"
  },
  "language_info": {
   "codemirror_mode": {
    "name": "ipython",
    "version": 3
   },
   "file_extension": ".py",
   "mimetype": "text/x-python",
   "name": "python",
   "nbconvert_exporter": "python",
   "pygments_lexer": "ipython3",
   "version": "3.7.3"
  },
  "orig_nbformat": 4
 },
 "nbformat": 4,
 "nbformat_minor": 2
}
