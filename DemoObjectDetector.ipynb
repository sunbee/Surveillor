{
 "cells": [
  {
   "cell_type": "code",
   "execution_count": 1,
   "metadata": {},
   "outputs": [],
   "source": [
    "from classifiers import *"
   ]
  },
  {
   "cell_type": "code",
   "execution_count": 2,
   "metadata": {},
   "outputs": [
    {
     "name": "stdout",
     "output_type": "stream",
     "text": [
      "Got size of input image as 224 x 224.\n"
     ]
    },
    {
     "data": {
      "text/plain": [
       "[('planetarium', 0.12890625),\n",
       " ('stage', 0.2109375),\n",
       " ('theater curtain', 0.046875),\n",
       " ('cinema', 0.0390625),\n",
       " ('car mirror', 0.0390625)]"
      ]
     },
     "execution_count": 2,
     "metadata": {},
     "output_type": "execute_result"
    }
   ],
   "source": [
    "labs = \"/home/pi/Downloads/MobileNet/labels_mobilenet_quant_v1_224.txt\"\n",
    "mod = \"/home/pi/Downloads/MobileNet/mobilenet_v1_1.0_224_quant.tflite\"\n",
    "mnet = MobileNet(labs, mod)\n",
    "mnet.classify_snap()"
   ]
  },
  {
   "cell_type": "code",
   "execution_count": 3,
   "metadata": {},
   "outputs": [
    {
     "name": "stdout",
     "output_type": "stream",
     "text": [
      "Got size of input image as 300 x 300.\n",
      "Found [('tv', '58%')]\n",
      "TL: 75.00, 84.00 BR: 210.00, 211.00.\n"
     ]
    },
    {
     "data": {
      "text/plain": [
       "[('tv', '58%')]"
      ]
     },
     "execution_count": 3,
     "metadata": {},
     "output_type": "execute_result"
    }
   ],
   "source": [
    "labs2 = '/home/pi/Downloads/CocoSSD/labelmap.txt'\n",
    "mod2 = '/home/pi/Downloads/CocoSSD/detect.tflite'\n",
    "cnet = Coco(labs2, mod2)\n",
    "cnet.classify_snap(threshold=0.4)"
   ]
  },
  {
   "cell_type": "code",
   "execution_count": null,
   "metadata": {},
   "outputs": [],
   "source": []
  }
 ],
 "metadata": {
  "interpreter": {
   "hash": "31f2aee4e71d21fbe5cf8b01ff0e069b9275f58929596ceb00d14d90e3e16cd6"
  },
  "kernelspec": {
   "display_name": "Python 3.7.3 32-bit",
   "name": "python3"
  },
  "language_info": {
   "codemirror_mode": {
    "name": "ipython",
    "version": 3
   },
   "file_extension": ".py",
   "mimetype": "text/x-python",
   "name": "python",
   "nbconvert_exporter": "python",
   "pygments_lexer": "ipython3",
   "version": "3.7.3"
  },
  "orig_nbformat": 4
 },
 "nbformat": 4,
 "nbformat_minor": 2
}
