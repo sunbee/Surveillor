{
 "cells": [
  {
   "cell_type": "code",
   "execution_count": 2,
   "metadata": {},
   "outputs": [],
   "source": [
    "from ObjectDetector import ObjectDetector"
   ]
  },
  {
   "cell_type": "code",
   "execution_count": 3,
   "metadata": {},
   "outputs": [],
   "source": [
    "mod = \"/home/pi/Downloads/MobileNet/mobilenet_v1_1.0_224_quant.tflite\"\n",
    "labs = \"/home/pi/Downloads/MobileNet/labels_mobilenet_quant_v1_224.txt\"\n",
    "od = ObjectDetector(labs, mod)\n"
   ]
  },
  {
   "cell_type": "code",
   "execution_count": 4,
   "metadata": {},
   "outputs": [
    {
     "name": "stdout",
     "output_type": "stream",
     "text": [
      "Got size of input image as 224 x 224 in 4-D.\n"
     ]
    },
    {
     "data": {
      "text/plain": [
       "[('iPod', 0.046875),\n",
       " ('television', 0.23828125),\n",
       " ('radio', 0.046875),\n",
       " ('projector', 0.0390625),\n",
       " ('screwdriver', 0.02734375)]"
      ]
     },
     "execution_count": 4,
     "metadata": {},
     "output_type": "execute_result"
    }
   ],
   "source": [
    "od.complete_initialization()\n",
    "result = od.classify_snap(topk=5)\n",
    "result"
   ]
  },
  {
   "cell_type": "code",
   "execution_count": null,
   "metadata": {},
   "outputs": [],
   "source": []
  }
 ],
 "metadata": {
  "interpreter": {
   "hash": "31f2aee4e71d21fbe5cf8b01ff0e069b9275f58929596ceb00d14d90e3e16cd6"
  },
  "kernelspec": {
   "display_name": "Python 3.7.3 32-bit",
   "name": "python3"
  },
  "language_info": {
   "codemirror_mode": {
    "name": "ipython",
    "version": 3
   },
   "file_extension": ".py",
   "mimetype": "text/x-python",
   "name": "python",
   "nbconvert_exporter": "python",
   "pygments_lexer": "ipython3",
   "version": "3.7.3"
  },
  "orig_nbformat": 4
 },
 "nbformat": 4,
 "nbformat_minor": 2
}
